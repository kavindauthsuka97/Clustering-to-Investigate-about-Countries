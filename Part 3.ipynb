{
 "cells": [
  {
   "cell_type": "markdown",
   "id": "e93d38b6",
   "metadata": {
    "id": "e93d38b6"
   },
   "source": [
    "* Get the summary of the dataset\n",
    "* Missing values handling\n",
    "* Duplicate value handling\n",
    "* Data distribution\n",
    "* Outlier handling\n",
    "    * Replace the outliers using median values\n",
    "    * Remove outliers\n",
    "    * Do not change outliers\n",
    "* Correlation analysis\n",
    "* Class balancing using SMOTE algorithm\n",
    "* Feature Scaling\n",
    "    * Standardization\n",
    "    * Normalization\n",
    "* Modeling with hyperparametric tuning\n",
    "    * Logistic Regression Model\n",
    "    * Naive Bayes\n",
    "    * Neural Network"
   ]
  },
  {
   "cell_type": "markdown",
   "id": "cf910d08",
   "metadata": {
    "id": "cf910d08"
   },
   "source": [
    "### 1) Import Libraries"
   ]
  },
  {
   "cell_type": "code",
   "execution_count": 1,
   "id": "69tvkQgs2MHV",
   "metadata": {
    "id": "69tvkQgs2MHV"
   },
   "outputs": [],
   "source": [
    "import warnings\n",
    "\n",
    "# Suppress all warnings\n",
    "warnings.filterwarnings(\"ignore\")"
   ]
  },
  {
   "cell_type": "code",
   "execution_count": 2,
   "id": "06fdff68",
   "metadata": {
    "id": "06fdff68"
   },
   "outputs": [],
   "source": [
    "import pandas as pd\n",
    "import numpy as np\n",
    "import matplotlib.pyplot as plt\n",
    "from sklearn.model_selection import train_test_split\n",
    "from sklearn.linear_model import LogisticRegression\n",
    "from sklearn.metrics import confusion_matrix , classification_report\n",
    "import seaborn as sns\n",
    "from sklearn.naive_bayes import GaussianNB\n",
    "from sklearn.neural_network import MLPClassifier\n",
    "from imblearn.over_sampling import SMOTE\n",
    "from sklearn.preprocessing import StandardScaler\n",
    "from sklearn.preprocessing import MinMaxScaler\n",
    "from sklearn.model_selection import GridSearchCV"
   ]
  },
  {
   "cell_type": "markdown",
   "id": "f957bc6a",
   "metadata": {
    "id": "f957bc6a"
   },
   "source": [
    "### 2) Data Preprocessing\n",
    "\n",
    "#### 2.1) Importing Dataset"
   ]
  },
  {
   "cell_type": "code",
   "execution_count": 3,
   "id": "d1eeaad7",
   "metadata": {
    "colab": {
     "base_uri": "https://localhost:8080/",
     "height": 377
    },
    "id": "d1eeaad7",
    "outputId": "8591c3f9-8483-4e67-f871-b89cbb3863e7"
   },
   "outputs": [
    {
     "ename": "FileNotFoundError",
     "evalue": "[Errno 2] No such file or directory: 'nba_rookie_data.csv'",
     "output_type": "error",
     "traceback": [
      "\u001b[1;31m---------------------------------------------------------------------------\u001b[0m",
      "\u001b[1;31mFileNotFoundError\u001b[0m                         Traceback (most recent call last)",
      "Cell \u001b[1;32mIn[3], line 1\u001b[0m\n\u001b[1;32m----> 1\u001b[0m df \u001b[38;5;241m=\u001b[39m \u001b[43mpd\u001b[49m\u001b[38;5;241;43m.\u001b[39;49m\u001b[43mread_csv\u001b[49m\u001b[43m(\u001b[49m\u001b[38;5;124;43m'\u001b[39;49m\u001b[38;5;124;43mnba_rookie_data.csv\u001b[39;49m\u001b[38;5;124;43m'\u001b[39;49m\u001b[43m)\u001b[49m\n\u001b[0;32m      2\u001b[0m df\u001b[38;5;241m.\u001b[39mhead()\n",
      "File \u001b[1;32mD:\\Programmes\\Anaconda\\lib\\site-packages\\pandas\\util\\_decorators.py:211\u001b[0m, in \u001b[0;36mdeprecate_kwarg.<locals>._deprecate_kwarg.<locals>.wrapper\u001b[1;34m(*args, **kwargs)\u001b[0m\n\u001b[0;32m    209\u001b[0m     \u001b[38;5;28;01melse\u001b[39;00m:\n\u001b[0;32m    210\u001b[0m         kwargs[new_arg_name] \u001b[38;5;241m=\u001b[39m new_arg_value\n\u001b[1;32m--> 211\u001b[0m \u001b[38;5;28;01mreturn\u001b[39;00m func(\u001b[38;5;241m*\u001b[39margs, \u001b[38;5;241m*\u001b[39m\u001b[38;5;241m*\u001b[39mkwargs)\n",
      "File \u001b[1;32mD:\\Programmes\\Anaconda\\lib\\site-packages\\pandas\\util\\_decorators.py:331\u001b[0m, in \u001b[0;36mdeprecate_nonkeyword_arguments.<locals>.decorate.<locals>.wrapper\u001b[1;34m(*args, **kwargs)\u001b[0m\n\u001b[0;32m    325\u001b[0m \u001b[38;5;28;01mif\u001b[39;00m \u001b[38;5;28mlen\u001b[39m(args) \u001b[38;5;241m>\u001b[39m num_allow_args:\n\u001b[0;32m    326\u001b[0m     warnings\u001b[38;5;241m.\u001b[39mwarn(\n\u001b[0;32m    327\u001b[0m         msg\u001b[38;5;241m.\u001b[39mformat(arguments\u001b[38;5;241m=\u001b[39m_format_argument_list(allow_args)),\n\u001b[0;32m    328\u001b[0m         \u001b[38;5;167;01mFutureWarning\u001b[39;00m,\n\u001b[0;32m    329\u001b[0m         stacklevel\u001b[38;5;241m=\u001b[39mfind_stack_level(),\n\u001b[0;32m    330\u001b[0m     )\n\u001b[1;32m--> 331\u001b[0m \u001b[38;5;28;01mreturn\u001b[39;00m func(\u001b[38;5;241m*\u001b[39margs, \u001b[38;5;241m*\u001b[39m\u001b[38;5;241m*\u001b[39mkwargs)\n",
      "File \u001b[1;32mD:\\Programmes\\Anaconda\\lib\\site-packages\\pandas\\io\\parsers\\readers.py:950\u001b[0m, in \u001b[0;36mread_csv\u001b[1;34m(filepath_or_buffer, sep, delimiter, header, names, index_col, usecols, squeeze, prefix, mangle_dupe_cols, dtype, engine, converters, true_values, false_values, skipinitialspace, skiprows, skipfooter, nrows, na_values, keep_default_na, na_filter, verbose, skip_blank_lines, parse_dates, infer_datetime_format, keep_date_col, date_parser, dayfirst, cache_dates, iterator, chunksize, compression, thousands, decimal, lineterminator, quotechar, quoting, doublequote, escapechar, comment, encoding, encoding_errors, dialect, error_bad_lines, warn_bad_lines, on_bad_lines, delim_whitespace, low_memory, memory_map, float_precision, storage_options)\u001b[0m\n\u001b[0;32m    935\u001b[0m kwds_defaults \u001b[38;5;241m=\u001b[39m _refine_defaults_read(\n\u001b[0;32m    936\u001b[0m     dialect,\n\u001b[0;32m    937\u001b[0m     delimiter,\n\u001b[1;32m   (...)\u001b[0m\n\u001b[0;32m    946\u001b[0m     defaults\u001b[38;5;241m=\u001b[39m{\u001b[38;5;124m\"\u001b[39m\u001b[38;5;124mdelimiter\u001b[39m\u001b[38;5;124m\"\u001b[39m: \u001b[38;5;124m\"\u001b[39m\u001b[38;5;124m,\u001b[39m\u001b[38;5;124m\"\u001b[39m},\n\u001b[0;32m    947\u001b[0m )\n\u001b[0;32m    948\u001b[0m kwds\u001b[38;5;241m.\u001b[39mupdate(kwds_defaults)\n\u001b[1;32m--> 950\u001b[0m \u001b[38;5;28;01mreturn\u001b[39;00m \u001b[43m_read\u001b[49m\u001b[43m(\u001b[49m\u001b[43mfilepath_or_buffer\u001b[49m\u001b[43m,\u001b[49m\u001b[43m \u001b[49m\u001b[43mkwds\u001b[49m\u001b[43m)\u001b[49m\n",
      "File \u001b[1;32mD:\\Programmes\\Anaconda\\lib\\site-packages\\pandas\\io\\parsers\\readers.py:605\u001b[0m, in \u001b[0;36m_read\u001b[1;34m(filepath_or_buffer, kwds)\u001b[0m\n\u001b[0;32m    602\u001b[0m _validate_names(kwds\u001b[38;5;241m.\u001b[39mget(\u001b[38;5;124m\"\u001b[39m\u001b[38;5;124mnames\u001b[39m\u001b[38;5;124m\"\u001b[39m, \u001b[38;5;28;01mNone\u001b[39;00m))\n\u001b[0;32m    604\u001b[0m \u001b[38;5;66;03m# Create the parser.\u001b[39;00m\n\u001b[1;32m--> 605\u001b[0m parser \u001b[38;5;241m=\u001b[39m TextFileReader(filepath_or_buffer, \u001b[38;5;241m*\u001b[39m\u001b[38;5;241m*\u001b[39mkwds)\n\u001b[0;32m    607\u001b[0m \u001b[38;5;28;01mif\u001b[39;00m chunksize \u001b[38;5;129;01mor\u001b[39;00m iterator:\n\u001b[0;32m    608\u001b[0m     \u001b[38;5;28;01mreturn\u001b[39;00m parser\n",
      "File \u001b[1;32mD:\\Programmes\\Anaconda\\lib\\site-packages\\pandas\\io\\parsers\\readers.py:1442\u001b[0m, in \u001b[0;36mTextFileReader.__init__\u001b[1;34m(self, f, engine, **kwds)\u001b[0m\n\u001b[0;32m   1439\u001b[0m     \u001b[38;5;28mself\u001b[39m\u001b[38;5;241m.\u001b[39moptions[\u001b[38;5;124m\"\u001b[39m\u001b[38;5;124mhas_index_names\u001b[39m\u001b[38;5;124m\"\u001b[39m] \u001b[38;5;241m=\u001b[39m kwds[\u001b[38;5;124m\"\u001b[39m\u001b[38;5;124mhas_index_names\u001b[39m\u001b[38;5;124m\"\u001b[39m]\n\u001b[0;32m   1441\u001b[0m \u001b[38;5;28mself\u001b[39m\u001b[38;5;241m.\u001b[39mhandles: IOHandles \u001b[38;5;241m|\u001b[39m \u001b[38;5;28;01mNone\u001b[39;00m \u001b[38;5;241m=\u001b[39m \u001b[38;5;28;01mNone\u001b[39;00m\n\u001b[1;32m-> 1442\u001b[0m \u001b[38;5;28mself\u001b[39m\u001b[38;5;241m.\u001b[39m_engine \u001b[38;5;241m=\u001b[39m \u001b[38;5;28;43mself\u001b[39;49m\u001b[38;5;241;43m.\u001b[39;49m\u001b[43m_make_engine\u001b[49m\u001b[43m(\u001b[49m\u001b[43mf\u001b[49m\u001b[43m,\u001b[49m\u001b[43m \u001b[49m\u001b[38;5;28;43mself\u001b[39;49m\u001b[38;5;241;43m.\u001b[39;49m\u001b[43mengine\u001b[49m\u001b[43m)\u001b[49m\n",
      "File \u001b[1;32mD:\\Programmes\\Anaconda\\lib\\site-packages\\pandas\\io\\parsers\\readers.py:1735\u001b[0m, in \u001b[0;36mTextFileReader._make_engine\u001b[1;34m(self, f, engine)\u001b[0m\n\u001b[0;32m   1733\u001b[0m     \u001b[38;5;28;01mif\u001b[39;00m \u001b[38;5;124m\"\u001b[39m\u001b[38;5;124mb\u001b[39m\u001b[38;5;124m\"\u001b[39m \u001b[38;5;129;01mnot\u001b[39;00m \u001b[38;5;129;01min\u001b[39;00m mode:\n\u001b[0;32m   1734\u001b[0m         mode \u001b[38;5;241m+\u001b[39m\u001b[38;5;241m=\u001b[39m \u001b[38;5;124m\"\u001b[39m\u001b[38;5;124mb\u001b[39m\u001b[38;5;124m\"\u001b[39m\n\u001b[1;32m-> 1735\u001b[0m \u001b[38;5;28mself\u001b[39m\u001b[38;5;241m.\u001b[39mhandles \u001b[38;5;241m=\u001b[39m \u001b[43mget_handle\u001b[49m\u001b[43m(\u001b[49m\n\u001b[0;32m   1736\u001b[0m \u001b[43m    \u001b[49m\u001b[43mf\u001b[49m\u001b[43m,\u001b[49m\n\u001b[0;32m   1737\u001b[0m \u001b[43m    \u001b[49m\u001b[43mmode\u001b[49m\u001b[43m,\u001b[49m\n\u001b[0;32m   1738\u001b[0m \u001b[43m    \u001b[49m\u001b[43mencoding\u001b[49m\u001b[38;5;241;43m=\u001b[39;49m\u001b[38;5;28;43mself\u001b[39;49m\u001b[38;5;241;43m.\u001b[39;49m\u001b[43moptions\u001b[49m\u001b[38;5;241;43m.\u001b[39;49m\u001b[43mget\u001b[49m\u001b[43m(\u001b[49m\u001b[38;5;124;43m\"\u001b[39;49m\u001b[38;5;124;43mencoding\u001b[39;49m\u001b[38;5;124;43m\"\u001b[39;49m\u001b[43m,\u001b[49m\u001b[43m \u001b[49m\u001b[38;5;28;43;01mNone\u001b[39;49;00m\u001b[43m)\u001b[49m\u001b[43m,\u001b[49m\n\u001b[0;32m   1739\u001b[0m \u001b[43m    \u001b[49m\u001b[43mcompression\u001b[49m\u001b[38;5;241;43m=\u001b[39;49m\u001b[38;5;28;43mself\u001b[39;49m\u001b[38;5;241;43m.\u001b[39;49m\u001b[43moptions\u001b[49m\u001b[38;5;241;43m.\u001b[39;49m\u001b[43mget\u001b[49m\u001b[43m(\u001b[49m\u001b[38;5;124;43m\"\u001b[39;49m\u001b[38;5;124;43mcompression\u001b[39;49m\u001b[38;5;124;43m\"\u001b[39;49m\u001b[43m,\u001b[49m\u001b[43m \u001b[49m\u001b[38;5;28;43;01mNone\u001b[39;49;00m\u001b[43m)\u001b[49m\u001b[43m,\u001b[49m\n\u001b[0;32m   1740\u001b[0m \u001b[43m    \u001b[49m\u001b[43mmemory_map\u001b[49m\u001b[38;5;241;43m=\u001b[39;49m\u001b[38;5;28;43mself\u001b[39;49m\u001b[38;5;241;43m.\u001b[39;49m\u001b[43moptions\u001b[49m\u001b[38;5;241;43m.\u001b[39;49m\u001b[43mget\u001b[49m\u001b[43m(\u001b[49m\u001b[38;5;124;43m\"\u001b[39;49m\u001b[38;5;124;43mmemory_map\u001b[39;49m\u001b[38;5;124;43m\"\u001b[39;49m\u001b[43m,\u001b[49m\u001b[43m \u001b[49m\u001b[38;5;28;43;01mFalse\u001b[39;49;00m\u001b[43m)\u001b[49m\u001b[43m,\u001b[49m\n\u001b[0;32m   1741\u001b[0m \u001b[43m    \u001b[49m\u001b[43mis_text\u001b[49m\u001b[38;5;241;43m=\u001b[39;49m\u001b[43mis_text\u001b[49m\u001b[43m,\u001b[49m\n\u001b[0;32m   1742\u001b[0m \u001b[43m    \u001b[49m\u001b[43merrors\u001b[49m\u001b[38;5;241;43m=\u001b[39;49m\u001b[38;5;28;43mself\u001b[39;49m\u001b[38;5;241;43m.\u001b[39;49m\u001b[43moptions\u001b[49m\u001b[38;5;241;43m.\u001b[39;49m\u001b[43mget\u001b[49m\u001b[43m(\u001b[49m\u001b[38;5;124;43m\"\u001b[39;49m\u001b[38;5;124;43mencoding_errors\u001b[39;49m\u001b[38;5;124;43m\"\u001b[39;49m\u001b[43m,\u001b[49m\u001b[43m \u001b[49m\u001b[38;5;124;43m\"\u001b[39;49m\u001b[38;5;124;43mstrict\u001b[39;49m\u001b[38;5;124;43m\"\u001b[39;49m\u001b[43m)\u001b[49m\u001b[43m,\u001b[49m\n\u001b[0;32m   1743\u001b[0m \u001b[43m    \u001b[49m\u001b[43mstorage_options\u001b[49m\u001b[38;5;241;43m=\u001b[39;49m\u001b[38;5;28;43mself\u001b[39;49m\u001b[38;5;241;43m.\u001b[39;49m\u001b[43moptions\u001b[49m\u001b[38;5;241;43m.\u001b[39;49m\u001b[43mget\u001b[49m\u001b[43m(\u001b[49m\u001b[38;5;124;43m\"\u001b[39;49m\u001b[38;5;124;43mstorage_options\u001b[39;49m\u001b[38;5;124;43m\"\u001b[39;49m\u001b[43m,\u001b[49m\u001b[43m \u001b[49m\u001b[38;5;28;43;01mNone\u001b[39;49;00m\u001b[43m)\u001b[49m\u001b[43m,\u001b[49m\n\u001b[0;32m   1744\u001b[0m \u001b[43m\u001b[49m\u001b[43m)\u001b[49m\n\u001b[0;32m   1745\u001b[0m \u001b[38;5;28;01massert\u001b[39;00m \u001b[38;5;28mself\u001b[39m\u001b[38;5;241m.\u001b[39mhandles \u001b[38;5;129;01mis\u001b[39;00m \u001b[38;5;129;01mnot\u001b[39;00m \u001b[38;5;28;01mNone\u001b[39;00m\n\u001b[0;32m   1746\u001b[0m f \u001b[38;5;241m=\u001b[39m \u001b[38;5;28mself\u001b[39m\u001b[38;5;241m.\u001b[39mhandles\u001b[38;5;241m.\u001b[39mhandle\n",
      "File \u001b[1;32mD:\\Programmes\\Anaconda\\lib\\site-packages\\pandas\\io\\common.py:856\u001b[0m, in \u001b[0;36mget_handle\u001b[1;34m(path_or_buf, mode, encoding, compression, memory_map, is_text, errors, storage_options)\u001b[0m\n\u001b[0;32m    851\u001b[0m \u001b[38;5;28;01melif\u001b[39;00m \u001b[38;5;28misinstance\u001b[39m(handle, \u001b[38;5;28mstr\u001b[39m):\n\u001b[0;32m    852\u001b[0m     \u001b[38;5;66;03m# Check whether the filename is to be opened in binary mode.\u001b[39;00m\n\u001b[0;32m    853\u001b[0m     \u001b[38;5;66;03m# Binary mode does not support 'encoding' and 'newline'.\u001b[39;00m\n\u001b[0;32m    854\u001b[0m     \u001b[38;5;28;01mif\u001b[39;00m ioargs\u001b[38;5;241m.\u001b[39mencoding \u001b[38;5;129;01mand\u001b[39;00m \u001b[38;5;124m\"\u001b[39m\u001b[38;5;124mb\u001b[39m\u001b[38;5;124m\"\u001b[39m \u001b[38;5;129;01mnot\u001b[39;00m \u001b[38;5;129;01min\u001b[39;00m ioargs\u001b[38;5;241m.\u001b[39mmode:\n\u001b[0;32m    855\u001b[0m         \u001b[38;5;66;03m# Encoding\u001b[39;00m\n\u001b[1;32m--> 856\u001b[0m         handle \u001b[38;5;241m=\u001b[39m \u001b[38;5;28;43mopen\u001b[39;49m\u001b[43m(\u001b[49m\n\u001b[0;32m    857\u001b[0m \u001b[43m            \u001b[49m\u001b[43mhandle\u001b[49m\u001b[43m,\u001b[49m\n\u001b[0;32m    858\u001b[0m \u001b[43m            \u001b[49m\u001b[43mioargs\u001b[49m\u001b[38;5;241;43m.\u001b[39;49m\u001b[43mmode\u001b[49m\u001b[43m,\u001b[49m\n\u001b[0;32m    859\u001b[0m \u001b[43m            \u001b[49m\u001b[43mencoding\u001b[49m\u001b[38;5;241;43m=\u001b[39;49m\u001b[43mioargs\u001b[49m\u001b[38;5;241;43m.\u001b[39;49m\u001b[43mencoding\u001b[49m\u001b[43m,\u001b[49m\n\u001b[0;32m    860\u001b[0m \u001b[43m            \u001b[49m\u001b[43merrors\u001b[49m\u001b[38;5;241;43m=\u001b[39;49m\u001b[43merrors\u001b[49m\u001b[43m,\u001b[49m\n\u001b[0;32m    861\u001b[0m \u001b[43m            \u001b[49m\u001b[43mnewline\u001b[49m\u001b[38;5;241;43m=\u001b[39;49m\u001b[38;5;124;43m\"\u001b[39;49m\u001b[38;5;124;43m\"\u001b[39;49m\u001b[43m,\u001b[49m\n\u001b[0;32m    862\u001b[0m \u001b[43m        \u001b[49m\u001b[43m)\u001b[49m\n\u001b[0;32m    863\u001b[0m     \u001b[38;5;28;01melse\u001b[39;00m:\n\u001b[0;32m    864\u001b[0m         \u001b[38;5;66;03m# Binary mode\u001b[39;00m\n\u001b[0;32m    865\u001b[0m         handle \u001b[38;5;241m=\u001b[39m \u001b[38;5;28mopen\u001b[39m(handle, ioargs\u001b[38;5;241m.\u001b[39mmode)\n",
      "\u001b[1;31mFileNotFoundError\u001b[0m: [Errno 2] No such file or directory: 'nba_rookie_data.csv'"
     ]
    }
   ],
   "source": [
    "df = pd.read_csv('nba_rookie_data.csv')\n",
    "df.head()"
   ]
  },
  {
   "cell_type": "code",
   "execution_count": null,
   "id": "91516eb6",
   "metadata": {
    "colab": {
     "base_uri": "https://localhost:8080/",
     "height": 261
    },
    "id": "91516eb6",
    "outputId": "6753759e-f51b-41e9-affd-b389c3f6fc42"
   },
   "outputs": [],
   "source": [
    "# drop unusual column\n",
    "df = df.drop(['Name'], axis = 1)\n",
    "df.head()"
   ]
  },
  {
   "cell_type": "markdown",
   "id": "8d7f6c62",
   "metadata": {
    "id": "8d7f6c62"
   },
   "source": [
    "#### 2.2) Get the brief summary of the dataset"
   ]
  },
  {
   "cell_type": "code",
   "execution_count": null,
   "id": "ed9815d8",
   "metadata": {
    "colab": {
     "base_uri": "https://localhost:8080/",
     "height": 338
    },
    "id": "ed9815d8",
    "outputId": "f7be1a5d-febd-43ee-ceac-910f7fbfc792"
   },
   "outputs": [],
   "source": [
    "# Statistics of the dataset\n",
    "df.describe()"
   ]
  },
  {
   "cell_type": "code",
   "execution_count": null,
   "id": "f03872fb",
   "metadata": {
    "colab": {
     "base_uri": "https://localhost:8080/"
    },
    "id": "f03872fb",
    "outputId": "b1e04a12-ae79-4d7c-8a33-ca66a9c1d60a"
   },
   "outputs": [],
   "source": [
    "# Get the information of the dataset\n",
    "df.info()"
   ]
  },
  {
   "cell_type": "markdown",
   "id": "96fd2f55",
   "metadata": {
    "id": "96fd2f55"
   },
   "source": [
    "#### 2.3) Missing values handling"
   ]
  },
  {
   "cell_type": "code",
   "execution_count": null,
   "id": "c0ed456d",
   "metadata": {
    "colab": {
     "base_uri": "https://localhost:8080/"
    },
    "id": "c0ed456d",
    "outputId": "8d1989ff-3df0-45c8-9107-15653940a90b"
   },
   "outputs": [],
   "source": [
    "missing_values = df.isna()\n",
    "\n",
    "# Calculate the count of missing values in each column\n",
    "missing_count = missing_values.sum()\n",
    "\n",
    "# Calculate the percentage of missing values in each column\n",
    "missing_percentage = (missing_count / len(df)) * 100\n",
    "\n",
    "# Create a summary DataFrame\n",
    "missing_info = pd.DataFrame({'Missing Values': missing_count, 'Missing Percentage': missing_percentage})\n",
    "\n",
    "# Print or display the summary\n",
    "print(missing_info)\n"
   ]
  },
  {
   "cell_type": "markdown",
   "id": "f11fe90f",
   "metadata": {
    "id": "f11fe90f"
   },
   "source": [
    "There is small percentage of missin values only in one variable. Let's remove them and clean the dataset"
   ]
  },
  {
   "cell_type": "code",
   "execution_count": null,
   "id": "fc4ca070",
   "metadata": {
    "colab": {
     "base_uri": "https://localhost:8080/",
     "height": 675
    },
    "id": "fc4ca070",
    "outputId": "5da0ea3f-24b4-4008-8ded-d296a24c7997"
   },
   "outputs": [],
   "source": [
    "# Create a heatmap to visualize missing values\n",
    "plt.figure(figsize=(8, 6))\n",
    "sns.heatmap(df.isnull(), cmap='viridis', cbar=False)\n",
    "plt.title('Missing Values')\n",
    "plt.show()"
   ]
  },
  {
   "cell_type": "code",
   "execution_count": null,
   "id": "1589f362",
   "metadata": {
    "id": "1589f362"
   },
   "outputs": [],
   "source": [
    "# remove missing value with entire row\n",
    "data = df.dropna(how='any')"
   ]
  },
  {
   "cell_type": "code",
   "execution_count": null,
   "id": "6bb78fa9",
   "metadata": {
    "colab": {
     "base_uri": "https://localhost:8080/",
     "height": 675
    },
    "id": "6bb78fa9",
    "outputId": "ac6e6a1b-ebf7-4a64-b25b-1b3de654ace4"
   },
   "outputs": [],
   "source": [
    "# Create a heatmap to visualize missing values\n",
    "plt.figure(figsize=(8, 6))\n",
    "sns.heatmap(data.isnull(), cmap='viridis', cbar=False)\n",
    "plt.title('Missing Values')\n",
    "plt.show()"
   ]
  },
  {
   "cell_type": "markdown",
   "id": "9f176be2",
   "metadata": {
    "id": "9f176be2"
   },
   "source": [
    "#### 2.4) Duplicate value handling"
   ]
  },
  {
   "cell_type": "code",
   "execution_count": null,
   "id": "7f2b960b",
   "metadata": {
    "colab": {
     "base_uri": "https://localhost:8080/"
    },
    "id": "7f2b960b",
    "outputId": "106c4df5-4c6f-4698-f064-a2e8f0bf4df7"
   },
   "outputs": [],
   "source": [
    "duplicate_rows = data[data.duplicated(keep='first')]\n",
    "# first occurrence of the duplicate and marks the rest as duplicates.\n",
    "num_duplicate_rows = len(duplicate_rows)\n",
    "\n",
    "print(f\"Number of duplicate rows: {num_duplicate_rows}\")"
   ]
  },
  {
   "cell_type": "markdown",
   "id": "47a764c0",
   "metadata": {
    "id": "47a764c0"
   },
   "source": [
    "There are 11 duplicate rowsa in the dataset and we have to remove them"
   ]
  },
  {
   "cell_type": "code",
   "execution_count": null,
   "id": "6add33db",
   "metadata": {
    "id": "6add33db"
   },
   "outputs": [],
   "source": [
    "# Remove duplicate rows from the DataFrame\n",
    "data = data.drop_duplicates(keep='first')"
   ]
  },
  {
   "cell_type": "code",
   "execution_count": null,
   "id": "bbf28abd",
   "metadata": {
    "colab": {
     "base_uri": "https://localhost:8080/"
    },
    "id": "bbf28abd",
    "outputId": "d0921294-3164-429a-bf0e-2e0669313f3d"
   },
   "outputs": [],
   "source": [
    "# again check the duplicate rows\n",
    "\n",
    "duplicate_rows = data[data.duplicated(keep='first')]\n",
    "# first occurrence of the duplicate and marks the rest as duplicates.\n",
    "num_duplicate_rows = len(duplicate_rows)\n",
    "\n",
    "print(f\"Number of duplicate rows: {num_duplicate_rows}\")"
   ]
  },
  {
   "cell_type": "markdown",
   "id": "b077c555",
   "metadata": {
    "id": "b077c555"
   },
   "source": [
    "#### 2.5) Data distribution"
   ]
  },
  {
   "cell_type": "markdown",
   "id": "4e16dd69",
   "metadata": {
    "id": "4e16dd69"
   },
   "source": [
    "* Density plots for all the variables"
   ]
  },
  {
   "cell_type": "code",
   "execution_count": null,
   "id": "ffffe026",
   "metadata": {
    "colab": {
     "base_uri": "https://localhost:8080/",
     "height": 1000
    },
    "id": "ffffe026",
    "outputId": "ec1dd6dd-8239-425e-f343-07de6c9fbbad"
   },
   "outputs": [],
   "source": [
    "# Create subplots for each variable\n",
    "plt.figure(figsize=(12, 21))  # Adjust the figure size as needed\n",
    "for i, column in enumerate(data.columns):\n",
    "    plt.subplot(7, 3, i + 1)  # Adjust the subplot layout as needed\n",
    "    sns.histplot(data[column], kde=True)\n",
    "    plt.title(f'Distribution of {column}')\n",
    "\n",
    "plt.tight_layout()\n",
    "plt.show()"
   ]
  },
  {
   "cell_type": "markdown",
   "id": "a1512053",
   "metadata": {
    "id": "a1512053"
   },
   "source": [
    "Apparently variables are not following the normal distribution"
   ]
  },
  {
   "cell_type": "markdown",
   "id": "cc2aeecb",
   "metadata": {
    "id": "cc2aeecb"
   },
   "source": [
    "* Distribution of response variable"
   ]
  },
  {
   "cell_type": "markdown",
   "id": "f52e7d03",
   "metadata": {
    "id": "f52e7d03"
   },
   "source": [
    "#### 2.6) Outlier handling"
   ]
  },
  {
   "cell_type": "markdown",
   "id": "c439358d",
   "metadata": {
    "id": "c439358d"
   },
   "source": [
    "* Outlier detection from boxplots"
   ]
  },
  {
   "cell_type": "code",
   "execution_count": null,
   "id": "36014684",
   "metadata": {
    "colab": {
     "base_uri": "https://localhost:8080/",
     "height": 1000
    },
    "id": "36014684",
    "outputId": "ad90fd0f-f48b-4149-f428-58b208f37622"
   },
   "outputs": [],
   "source": [
    "data.iloc[:,0:20].plot(kind=\"box\", subplots=True, layout=(6,4), figsize=(10,25))"
   ]
  },
  {
   "cell_type": "markdown",
   "id": "c69031d7",
   "metadata": {
    "id": "c69031d7"
   },
   "source": [
    "* Take the percentage of outliers for each variable"
   ]
  },
  {
   "cell_type": "code",
   "execution_count": null,
   "id": "9eb9ec63",
   "metadata": {
    "colab": {
     "base_uri": "https://localhost:8080/"
    },
    "id": "9eb9ec63",
    "outputId": "daec556f-4b72-4c0c-e1ec-f6d803a45043"
   },
   "outputs": [],
   "source": [
    "# Define a function to calculate the percentage of outliers\n",
    "def percentage_outliers(series):\n",
    "    q1 = series.quantile(0.25)\n",
    "    q3 = series.quantile(0.75)\n",
    "    iqr = q3 - q1\n",
    "    lower_bound = q1 - 1.5 * iqr\n",
    "    upper_bound = q3 + 1.5 * iqr\n",
    "    outliers = series[(series < lower_bound) | (series > upper_bound)]\n",
    "    return len(outliers) / len(series) * 100\n",
    "\n",
    "# Calculate the percentage of outliers for each variable\n",
    "outlier_percentages = data.apply(percentage_outliers)\n",
    "\n",
    "# Display the result\n",
    "print(outlier_percentages)\n"
   ]
  },
  {
   "cell_type": "markdown",
   "id": "c69161a1",
   "metadata": {
    "id": "c69161a1"
   },
   "source": [
    "There are significant outliers for the most of the variables and we have to handle it\n",
    "\n",
    "* Replace outliers with the median\n"
   ]
  },
  {
   "cell_type": "code",
   "execution_count": null,
   "id": "3920d24c",
   "metadata": {
    "id": "3920d24c"
   },
   "outputs": [],
   "source": [
    "\"\"\"\"\n",
    "# replace the outliers with median value\n",
    "def replace_outliers_with_median(series):\n",
    "    q1 = series.quantile(0.25)\n",
    "    q3 = series.quantile(0.75)\n",
    "    iqr = q3 - q1\n",
    "    lower_bound = q1 - 1.5 * iqr\n",
    "    upper_bound = q3 + 1.5 * iqr\n",
    "    median_value = series.median()\n",
    "    series[(series < lower_bound) | (series > upper_bound)] = median_value\n",
    "    return series\n",
    "\n",
    "# Apply the function to replace outliers for each variable\n",
    "data_new = data.apply(replace_outliers_with_median)\n",
    "\"\"\"\""
   ]
  },
  {
   "cell_type": "code",
   "execution_count": null,
   "id": "d42649f2",
   "metadata": {},
   "outputs": [],
   "source": [
    "data_new = data"
   ]
  },
  {
   "cell_type": "code",
   "execution_count": null,
   "id": "5afff6a1",
   "metadata": {
    "colab": {
     "base_uri": "https://localhost:8080/",
     "height": 338
    },
    "id": "5afff6a1",
    "outputId": "b5131b8d-ddb7-4fc6-ebba-460a1ec7ec31",
    "scrolled": true
   },
   "outputs": [],
   "source": [
    "data_new.describe()"
   ]
  },
  {
   "cell_type": "markdown",
   "id": "199ac7b0",
   "metadata": {},
   "source": [
    "* Removing Outliers"
   ]
  },
  {
   "cell_type": "code",
   "execution_count": null,
   "id": "54b7c863",
   "metadata": {},
   "outputs": [],
   "source": [
    "\"\"\"\"\n",
    "data_new = data.iloc[:,:]\n",
    "\n",
    "def outliers_for_features(data, col):    \n",
    "    Q1 = data.loc[:,col].quantile(0.25)\n",
    "    Q3 = data.loc[:,col].quantile(0.75)\n",
    "    \n",
    "    upper_limit = Q3 + 1.5*(Q3-Q1)\n",
    "    lower_limit = Q1 - 1.5*(Q3-Q1)\n",
    "    \n",
    "    return data_new[col].apply(lambda x : upper_limit if x > upper_limit else lower_limit if x < lower_limit else x)\n",
    "    \n",
    "for col in df.iloc[:,1:19]:\n",
    "    data_new[col] = outliers_for_features(data, col)\n",
    "    \n",
    "\"\"\"\""
   ]
  },
  {
   "cell_type": "code",
   "execution_count": null,
   "id": "34a802dc",
   "metadata": {
    "colab": {
     "base_uri": "https://localhost:8080/",
     "height": 338
    },
    "id": "34a802dc",
    "outputId": "4d07f14a-ccc1-4519-ac2a-d2b05ea8624f"
   },
   "outputs": [],
   "source": [
    "# original dataset quantile information\n",
    "df.describe()"
   ]
  },
  {
   "cell_type": "markdown",
   "id": "71540df3",
   "metadata": {
    "id": "71540df3"
   },
   "source": [
    "#### 2.7) Correlation analysis\n",
    "\n",
    "* Correlation of each variable with response variable"
   ]
  },
  {
   "cell_type": "code",
   "execution_count": null,
   "id": "08bd7d2b",
   "metadata": {
    "colab": {
     "base_uri": "https://localhost:8080/",
     "height": 814
    },
    "id": "08bd7d2b",
    "outputId": "408bba97-b619-430c-89fc-debc662cc641"
   },
   "outputs": [],
   "source": [
    "# Calculate the correlation matrix\n",
    "corr_matrix = data_new.corr()\n",
    "\n",
    "# Create a bar chart to display the correlations\n",
    "plt.figure(figsize=(12, 8))  # Set the figure size\n",
    "sns.set(style=\"whitegrid\")  # Set the style of the chart\n",
    "\n",
    "# Create a bar chart using a horizontal barplot\n",
    "sns.barplot(x=corr_matrix.index, y=corr_matrix[\"TARGET_5Yrs\"], palette=\"viridis\")\n",
    "\n",
    "# Customize the chart\n",
    "plt.title(\"Pairwise Correlation Bar Chart\")\n",
    "plt.xlabel(\"Variables\")\n",
    "plt.ylabel(\"Correlation\")\n",
    "plt.xticks(rotation=90)  # Rotate x-axis labels for better readability\n",
    "\n",
    "plt.show()"
   ]
  },
  {
   "cell_type": "markdown",
   "id": "170fa597",
   "metadata": {
    "id": "170fa597"
   },
   "source": [
    "* pair plot to check how the correlation applies between each variable"
   ]
  },
  {
   "cell_type": "code",
   "execution_count": null,
   "id": "379e16af",
   "metadata": {
    "colab": {
     "base_uri": "https://localhost:8080/",
     "height": 929
    },
    "id": "379e16af",
    "outputId": "9425f1ec-a1ad-4d6c-b202-7d313c69a833"
   },
   "outputs": [],
   "source": [
    "corr_matrix = data_new.corr()\n",
    "\n",
    "# Create a heatmap\n",
    "plt.figure(figsize=(20, 20))\n",
    "sns.set(font_scale=1.2)  # Adjust font size for better readability\n",
    "\n",
    "# Create a heatmap with the correlation matrix\n",
    "sns.heatmap(corr_matrix, annot=True, fmt=\".2f\", cmap=\"coolwarm\", cbar=True, square=True)\n",
    "\n",
    "# Customize the plot\n",
    "plt.title(\"Correlation Heatmap\")\n",
    "plt.show()"
   ]
  },
  {
   "cell_type": "markdown",
   "id": "c88feb11",
   "metadata": {
    "id": "c88feb11"
   },
   "source": [
    "#### 2.8) Class balancing\n",
    "\n",
    "* Check the distribution of the response variable"
   ]
  },
  {
   "cell_type": "code",
   "execution_count": null,
   "id": "7c6cd2d0",
   "metadata": {
    "colab": {
     "base_uri": "https://localhost:8080/",
     "height": 485
    },
    "id": "7c6cd2d0",
    "outputId": "f50c9e8f-d46a-428a-d26f-536abb8c2e5f"
   },
   "outputs": [],
   "source": [
    "sns.countplot(x='TARGET_5Yrs', data=data_new)\n",
    "plt.title('Class Distribution of Response Variable')\n",
    "plt.xlabel('Response Variable')\n",
    "plt.ylabel('Count')\n",
    "plt.show()"
   ]
  },
  {
   "cell_type": "markdown",
   "id": "612b273c",
   "metadata": {
    "id": "612b273c"
   },
   "source": [
    "Here, classes of the response varibale doesn't balance. We have to balance the response variable."
   ]
  },
  {
   "cell_type": "markdown",
   "id": "55dd96c6",
   "metadata": {
    "id": "55dd96c6"
   },
   "source": [
    "* Balance response variable using SMOTE ( Syntetic Minority Oversampling Technique ) technique"
   ]
  },
  {
   "cell_type": "code",
   "execution_count": null,
   "id": "86930f1b",
   "metadata": {
    "id": "86930f1b"
   },
   "outputs": [],
   "source": [
    "X = data_new.drop('TARGET_5Yrs', axis=1)\n",
    "y = data_new['TARGET_5Yrs']\n",
    "\n",
    "smote = SMOTE()\n",
    "X_resampled, y_resampled = smote.fit_resample(X, y)"
   ]
  },
  {
   "cell_type": "code",
   "execution_count": null,
   "id": "84459b01",
   "metadata": {
    "id": "84459b01"
   },
   "outputs": [],
   "source": [
    "balanced_df = pd.concat([X_resampled, y_resampled], axis=1)"
   ]
  },
  {
   "cell_type": "code",
   "execution_count": null,
   "id": "424b2d02",
   "metadata": {
    "colab": {
     "base_uri": "https://localhost:8080/",
     "height": 261
    },
    "id": "424b2d02",
    "outputId": "cb59bfa0-e61e-419a-fca0-8997242a1b31"
   },
   "outputs": [],
   "source": [
    "balanced_df.head()"
   ]
  },
  {
   "cell_type": "code",
   "execution_count": null,
   "id": "642b0051",
   "metadata": {
    "colab": {
     "base_uri": "https://localhost:8080/",
     "height": 485
    },
    "id": "642b0051",
    "outputId": "c7ad6a6f-0373-4a17-8d47-eb61d3cc0436"
   },
   "outputs": [],
   "source": [
    "sns.countplot(x='TARGET_5Yrs', data=balanced_df)\n",
    "plt.title('Class Distribution of Response Variable')\n",
    "plt.xlabel('Response Variable')\n",
    "plt.ylabel('Count')\n",
    "plt.show()"
   ]
  },
  {
   "cell_type": "markdown",
   "id": "43b7ec2d",
   "metadata": {
    "id": "43b7ec2d"
   },
   "source": [
    "#### 2.9) Feature scaling\n",
    "\n",
    "* Standardizing"
   ]
  },
  {
   "cell_type": "code",
   "execution_count": null,
   "id": "4beaa52a",
   "metadata": {
    "id": "4beaa52a"
   },
   "outputs": [],
   "source": [
    "X_std = balanced_df.drop('TARGET_5Yrs', axis=1)\n",
    "y = balanced_df['TARGET_5Yrs']"
   ]
  },
  {
   "cell_type": "code",
   "execution_count": null,
   "id": "28cf1891",
   "metadata": {
    "colab": {
     "base_uri": "https://localhost:8080/",
     "height": 261
    },
    "id": "28cf1891",
    "outputId": "b7a408c7-8b62-478f-f121-b2192190c451"
   },
   "outputs": [],
   "source": [
    "X_std.head()"
   ]
  },
  {
   "cell_type": "code",
   "execution_count": null,
   "id": "f028953e",
   "metadata": {
    "id": "f028953e"
   },
   "outputs": [],
   "source": [
    "# scale the dataset\n",
    "X_std = StandardScaler().fit_transform(X_std)"
   ]
  },
  {
   "cell_type": "code",
   "execution_count": null,
   "id": "e61c415c",
   "metadata": {
    "colab": {
     "base_uri": "https://localhost:8080/",
     "height": 226
    },
    "id": "e61c415c",
    "outputId": "535fe587-472e-4b3b-9bab-b9a519bb4169"
   },
   "outputs": [],
   "source": [
    "pd.DataFrame(X_std).head()"
   ]
  },
  {
   "cell_type": "markdown",
   "id": "44c3977e",
   "metadata": {
    "id": "44c3977e"
   },
   "source": [
    "* Normalization"
   ]
  },
  {
   "cell_type": "code",
   "execution_count": null,
   "id": "1f66ba72",
   "metadata": {
    "id": "1f66ba72"
   },
   "outputs": [],
   "source": [
    "X_nor = balanced_df.drop('TARGET_5Yrs', axis=1)\n",
    "y = balanced_df['TARGET_5Yrs']"
   ]
  },
  {
   "cell_type": "code",
   "execution_count": null,
   "id": "a976daea",
   "metadata": {
    "id": "a976daea"
   },
   "outputs": [],
   "source": [
    "# scale the dataset\n",
    "X_nor = MinMaxScaler().fit_transform(X_nor)"
   ]
  },
  {
   "cell_type": "code",
   "execution_count": null,
   "id": "12177e0b",
   "metadata": {
    "colab": {
     "base_uri": "https://localhost:8080/",
     "height": 226
    },
    "id": "12177e0b",
    "outputId": "6144f768-fdf2-4e8d-d0a5-adbf0ecde388"
   },
   "outputs": [],
   "source": [
    "pd.DataFrame(X_nor).head()"
   ]
  },
  {
   "cell_type": "markdown",
   "id": "977c3b3b",
   "metadata": {
    "id": "977c3b3b"
   },
   "source": [
    "### 3) Modeling and Hyperparametric Tuning\n",
    "\n",
    "#### 3.1) Modeling using standard scaling data"
   ]
  },
  {
   "cell_type": "markdown",
   "id": "6ba2c599",
   "metadata": {
    "id": "6ba2c599"
   },
   "source": [
    "Split the dataset to train and evaluation. Use 'GridSearchCV' approach to training set and evaluate it using testing set"
   ]
  },
  {
   "cell_type": "code",
   "execution_count": null,
   "id": "6a71b097",
   "metadata": {
    "id": "6a71b097"
   },
   "outputs": [],
   "source": [
    "X_train_std, X_test_std, y_train_std, y_test_std = train_test_split(X_std, y, test_size= 1/4, random_state=0)"
   ]
  },
  {
   "cell_type": "markdown",
   "id": "f3357469",
   "metadata": {
    "id": "f3357469"
   },
   "source": [
    "* Modeling using 'GridSearchCV' method with 5 folds\n",
    "\n",
    "Let's tune some special parameters of each of the algorithm"
   ]
  },
  {
   "cell_type": "markdown",
   "id": "d8f64e3c",
   "metadata": {
    "id": "d8f64e3c"
   },
   "source": [
    "#### 3.1.1) Logistic Regression Model"
   ]
  },
  {
   "cell_type": "code",
   "execution_count": null,
   "id": "eb222809",
   "metadata": {
    "colab": {
     "base_uri": "https://localhost:8080/",
     "height": 118
    },
    "id": "eb222809",
    "outputId": "a2d91857-a038-4f57-cada-cb9dfb927bae"
   },
   "outputs": [],
   "source": [
    "# create the model and fit\n",
    "lr_std = GridSearchCV(LogisticRegression(), {\n",
    "    'penalty': ['elasticnet','l1','l2'],\n",
    "    'max_iter':[50,100,25]\n",
    "}, cv=5, return_train_score=False)\n",
    "\n",
    "lr_std.fit(X_train_std, y_train_std)"
   ]
  },
  {
   "cell_type": "code",
   "execution_count": null,
   "id": "82a1eb07",
   "metadata": {
    "colab": {
     "base_uri": "https://localhost:8080/",
     "height": 75
    },
    "id": "82a1eb07",
    "outputId": "f0b32ed9-0923-4cce-b204-98508e4a9405"
   },
   "outputs": [],
   "source": [
    "# best model after doing hyper parametric tuning\n",
    "best_model_lr_std = lr_std.best_estimator_\n",
    "best_model_lr_std"
   ]
  },
  {
   "cell_type": "code",
   "execution_count": null,
   "id": "bfe1cff5",
   "metadata": {
    "colab": {
     "base_uri": "https://localhost:8080/"
    },
    "id": "bfe1cff5",
    "outputId": "46fd133c-a6b8-496d-9464-2b15b915efe9"
   },
   "outputs": [],
   "source": [
    "# best accuracy of the tuned model for training data\n",
    "lr_std.best_score_"
   ]
  },
  {
   "cell_type": "code",
   "execution_count": null,
   "id": "98982329",
   "metadata": {
    "colab": {
     "base_uri": "https://localhost:8080/"
    },
    "id": "98982329",
    "outputId": "34c4126d-9223-4b11-bc31-e3cf16615de7"
   },
   "outputs": [],
   "source": [
    "lr_std.best_params_"
   ]
  },
  {
   "cell_type": "code",
   "execution_count": null,
   "id": "11939c2a",
   "metadata": {
    "id": "11939c2a"
   },
   "outputs": [],
   "source": [
    "# predict the test data response variable\n",
    "y_predicted_lr_std = best_model_lr_std.predict(X_test_std)"
   ]
  },
  {
   "cell_type": "code",
   "execution_count": null,
   "id": "3774e6e0",
   "metadata": {
    "colab": {
     "base_uri": "https://localhost:8080/"
    },
    "id": "3774e6e0",
    "outputId": "13c89392-9755-41c4-efc8-99db53f3736e"
   },
   "outputs": [],
   "source": [
    "# predict the probability value of response variable\n",
    "best_model_lr_std.predict_proba(X_test_std)"
   ]
  },
  {
   "cell_type": "markdown",
   "id": "dea6b983",
   "metadata": {
    "id": "dea6b983"
   },
   "source": [
    "* Evaluating the model\n",
    "\n",
    "Let's evaluate model using testing set"
   ]
  },
  {
   "cell_type": "code",
   "execution_count": null,
   "id": "4e75d53e",
   "metadata": {
    "colab": {
     "base_uri": "https://localhost:8080/"
    },
    "id": "4e75d53e",
    "outputId": "d745f8cf-557a-4e22-8140-6c12985ac292"
   },
   "outputs": [],
   "source": [
    "# output the accuracy score\n",
    "print('Our Accuracy is %.2f' % best_model_lr_std.score(X_test_std, y_test_std))\n",
    "\n",
    "# output the number of mislabeled points\n",
    "print('Number of mislabeled points out of a total %d points : %d'% (X_test_std.shape[0], (y_test_std != best_model_lr_std.predict(X_test_std)).sum()))"
   ]
  },
  {
   "cell_type": "code",
   "execution_count": null,
   "id": "3b00a8da",
   "metadata": {
    "colab": {
     "base_uri": "https://localhost:8080/",
     "height": 400
    },
    "id": "3b00a8da",
    "outputId": "c57cb106-116e-4459-e680-0815ff45c91d"
   },
   "outputs": [],
   "source": [
    "cm_lr_std = confusion_matrix(y_test_std,y_predicted_lr_std)\n",
    "\n",
    "# Create a heatmap to visualize the confusion matrix\n",
    "plt.figure(figsize=(6, 4))\n",
    "sns.heatmap(cm_lr_std, annot=True, fmt=\"d\", cmap=\"YlGnBu\")\n",
    "plt.xlabel(\"Predicted\")\n",
    "plt.ylabel(\"True\")\n",
    "plt.show()"
   ]
  },
  {
   "cell_type": "markdown",
   "id": "def027ac",
   "metadata": {
    "id": "def027ac"
   },
   "source": [
    "* 1: if career length >= 5 yrs\n",
    "* 0: if career length < 5 yrs"
   ]
  },
  {
   "cell_type": "code",
   "execution_count": null,
   "id": "8fda7935",
   "metadata": {
    "colab": {
     "base_uri": "https://localhost:8080/"
    },
    "id": "8fda7935",
    "outputId": "122126d5-b7d3-404e-deec-1b2cf2f19005"
   },
   "outputs": [],
   "source": [
    "# confusion matrix\n",
    "print(classification_report(y_test_std, y_predicted_lr_std))"
   ]
  },
  {
   "cell_type": "markdown",
   "id": "31d50a8e",
   "metadata": {
    "id": "31d50a8e"
   },
   "source": [
    "#### 3.1.2) Naive Bayes"
   ]
  },
  {
   "cell_type": "code",
   "execution_count": null,
   "id": "9ef40bcb",
   "metadata": {
    "colab": {
     "base_uri": "https://localhost:8080/",
     "height": 118
    },
    "id": "9ef40bcb",
    "outputId": "b9aad915-562e-4284-e655-171a1fce628e"
   },
   "outputs": [],
   "source": [
    "nb_std = GridSearchCV(GaussianNB(), {\n",
    "}, cv=5, return_train_score=False)\n",
    "\n",
    "nb_std.fit(X_train_std, y_train_std)"
   ]
  },
  {
   "cell_type": "code",
   "execution_count": null,
   "id": "9de0172c",
   "metadata": {
    "colab": {
     "base_uri": "https://localhost:8080/",
     "height": 75
    },
    "id": "9de0172c",
    "outputId": "26bead89-f245-4a73-a830-558e1df032a6"
   },
   "outputs": [],
   "source": [
    "# best model after doing hyper parametric tuning for training data\n",
    "best_model_nb_std = nb_std.best_estimator_\n",
    "best_model_nb_std"
   ]
  },
  {
   "cell_type": "code",
   "execution_count": null,
   "id": "f7dd1319",
   "metadata": {
    "colab": {
     "base_uri": "https://localhost:8080/"
    },
    "id": "f7dd1319",
    "outputId": "2d87c760-c2ef-4380-da5a-a6e793b3af0e"
   },
   "outputs": [],
   "source": [
    "# best accuracy of the tuned model for training data\n",
    "nb_std.best_score_"
   ]
  },
  {
   "cell_type": "code",
   "execution_count": null,
   "id": "b3b8ace8",
   "metadata": {
    "colab": {
     "base_uri": "https://localhost:8080/"
    },
    "id": "b3b8ace8",
    "outputId": "4f32e7e9-3bf6-4cd8-f560-47f9fed96081"
   },
   "outputs": [],
   "source": [
    "# best parameters for the tuned model using training data\n",
    "nb_std.best_params_"
   ]
  },
  {
   "cell_type": "markdown",
   "id": "a4247bb3",
   "metadata": {
    "id": "a4247bb3"
   },
   "source": [
    "* Evaluating the model\n",
    "\n",
    "Let's evaluate the model using testing data"
   ]
  },
  {
   "cell_type": "code",
   "execution_count": null,
   "id": "b03ab801",
   "metadata": {
    "colab": {
     "base_uri": "https://localhost:8080/"
    },
    "id": "b03ab801",
    "outputId": "b449ec81-a71b-4666-cc60-385fcd4fdc69"
   },
   "outputs": [],
   "source": [
    "# output the accuracy score\n",
    "print('Our Accuracy is %.2f' % nb_std.score(X_test_std, y_test_std))\n",
    "\n",
    "# output the number of mislabeled points\n",
    "print('Number of mislabeled points out of a total %d points : %d'% (X_test_std.shape[0], (y_test_std != nb_std.predict(X_test_std)).sum()))"
   ]
  },
  {
   "cell_type": "code",
   "execution_count": null,
   "id": "26db7820",
   "metadata": {
    "colab": {
     "base_uri": "https://localhost:8080/"
    },
    "id": "26db7820",
    "outputId": "dd930310-4702-4d94-eab4-2a9a0b81d058"
   },
   "outputs": [],
   "source": [
    "# predict the probability value of response variable for testing data\n",
    "best_model_nb_std.predict_proba(X_test_std)"
   ]
  },
  {
   "cell_type": "code",
   "execution_count": null,
   "id": "2ad91b25",
   "metadata": {
    "id": "2ad91b25"
   },
   "outputs": [],
   "source": [
    "# predict the test data response variable\n",
    "y_predicted_nb_std = best_model_nb_std.predict(X_test_std)"
   ]
  },
  {
   "cell_type": "code",
   "execution_count": null,
   "id": "e9dd9136",
   "metadata": {
    "colab": {
     "base_uri": "https://localhost:8080/",
     "height": 407
    },
    "id": "e9dd9136",
    "outputId": "2700e9e6-ec1a-464b-f86c-42f9e0d125c4"
   },
   "outputs": [],
   "source": [
    "cm_nb_std = confusion_matrix(y_test_std,y_predicted_nb_std)\n",
    "\n",
    "# Create a heatmap to visualize the confusion matrix\n",
    "plt.figure(figsize=(6, 4))\n",
    "sns.heatmap(cm_nb_std, annot=True, fmt=\"d\", cmap=\"YlGnBu\")\n",
    "plt.xlabel(\"Predicted\")\n",
    "plt.ylabel(\"True\")\n",
    "plt.show()"
   ]
  },
  {
   "cell_type": "code",
   "execution_count": null,
   "id": "33fb8884",
   "metadata": {
    "colab": {
     "base_uri": "https://localhost:8080/"
    },
    "id": "33fb8884",
    "outputId": "1d4a4e46-fed3-4817-b34c-a1bc23b2cada"
   },
   "outputs": [],
   "source": [
    "# confusion matrix\n",
    "print(classification_report(y_test_std, y_predicted_nb_std))"
   ]
  },
  {
   "cell_type": "markdown",
   "id": "1d7c943f",
   "metadata": {
    "id": "1d7c943f"
   },
   "source": [
    "#### 3.1.3) Neural Network"
   ]
  },
  {
   "cell_type": "code",
   "execution_count": null,
   "id": "33c84e15",
   "metadata": {
    "colab": {
     "base_uri": "https://localhost:8080/",
     "height": 118
    },
    "id": "33c84e15",
    "outputId": "3757e3d7-2909-4bbd-9ee3-21f1bfa744d1"
   },
   "outputs": [],
   "source": [
    "mlp_std = GridSearchCV(MLPClassifier(), {\n",
    "    'hidden_layer_sizes': [[10,20,30],[20,30,40],[50,60,70]],\n",
    "    #'activation': ['identity','logistic','tanh','relu'],\n",
    "    'solver': ['sgd','adam'],\n",
    "    #'alpha' : [0.0001,0.001,0.01],\n",
    "    #'learning_rate': ['constant','invscaling','adaptive'],\n",
    "    #'learning_rate_init': [0.0001,0.001,0.01],\n",
    "    #'max_iter': [200,300,400]\n",
    "}, cv=5, return_train_score=False)\n",
    "\n",
    "mlp_std.fit(X_train_std, y_train_std)"
   ]
  },
  {
   "cell_type": "code",
   "execution_count": null,
   "id": "7c0305c1",
   "metadata": {
    "colab": {
     "base_uri": "https://localhost:8080/",
     "height": 75
    },
    "id": "7c0305c1",
    "outputId": "4a314a46-159d-4bb3-858e-7355a2dcffef"
   },
   "outputs": [],
   "source": [
    "# best model after doing hyper parametric tuning for training data\n",
    "best_model_mlp_std = mlp_std.best_estimator_\n",
    "best_model_mlp_std"
   ]
  },
  {
   "cell_type": "code",
   "execution_count": null,
   "id": "69085e1e",
   "metadata": {
    "colab": {
     "base_uri": "https://localhost:8080/"
    },
    "id": "69085e1e",
    "outputId": "ee0d1221-a2f5-421f-dcf7-3dd83feb89cf"
   },
   "outputs": [],
   "source": [
    "# best accuracy of the tuned model for training data\n",
    "mlp_std.best_score_"
   ]
  },
  {
   "cell_type": "code",
   "execution_count": null,
   "id": "64b6b6f5",
   "metadata": {
    "colab": {
     "base_uri": "https://localhost:8080/"
    },
    "id": "64b6b6f5",
    "outputId": "6caef5af-e21f-4314-d4de-ef794561eb33"
   },
   "outputs": [],
   "source": [
    "# best parameters for the tuned model using training data\n",
    "mlp_std.best_params_"
   ]
  },
  {
   "cell_type": "markdown",
   "id": "0f127057",
   "metadata": {
    "id": "0f127057"
   },
   "source": [
    "* Evaluating the model\n",
    "\n",
    "Let's evaluating the model using testing data"
   ]
  },
  {
   "cell_type": "code",
   "execution_count": null,
   "id": "de4c88b2",
   "metadata": {
    "colab": {
     "base_uri": "https://localhost:8080/"
    },
    "id": "de4c88b2",
    "outputId": "5b19212a-d779-422d-d77f-e4dd08c48696"
   },
   "outputs": [],
   "source": [
    "# output the accuracy score\n",
    "print('Our Accuracy is %.2f' % mlp_std.score(X_test_std, y_test_std))\n",
    "\n",
    "# output the number of mislabeled points\n",
    "print('Number of mislabeled points out of a total %d points : %d'% (X_test_std.shape[0], (y_test_std != mlp_std.predict(X_test_std)).sum()))"
   ]
  },
  {
   "cell_type": "code",
   "execution_count": null,
   "id": "499bfea0",
   "metadata": {
    "colab": {
     "base_uri": "https://localhost:8080/"
    },
    "id": "499bfea0",
    "outputId": "f03d3e83-013d-409d-fa08-cddfba7d5054"
   },
   "outputs": [],
   "source": [
    "# predict the probability value of response variable for testing data\n",
    "best_model_mlp_std.predict_proba(X_test_std)"
   ]
  },
  {
   "cell_type": "code",
   "execution_count": null,
   "id": "79ec9813",
   "metadata": {
    "id": "79ec9813"
   },
   "outputs": [],
   "source": [
    "# predict the test data response variable\n",
    "y_predicted_mlp_std = best_model_mlp_std.predict(X_test_std)"
   ]
  },
  {
   "cell_type": "code",
   "execution_count": null,
   "id": "8f6e6d96",
   "metadata": {
    "colab": {
     "base_uri": "https://localhost:8080/",
     "height": 400
    },
    "id": "8f6e6d96",
    "outputId": "933c1724-6783-4d3b-93c6-e8e681b1b6a2"
   },
   "outputs": [],
   "source": [
    "cm_mlp_std = confusion_matrix(y_test_std,y_predicted_mlp_std)\n",
    "\n",
    "# Create a heatmap to visualize the confusion matrix\n",
    "plt.figure(figsize=(6, 4))\n",
    "sns.heatmap(cm_mlp_std, annot=True, fmt=\"d\", cmap=\"YlGnBu\")\n",
    "plt.xlabel(\"Predicted\")\n",
    "plt.ylabel(\"True\")\n",
    "plt.show()"
   ]
  },
  {
   "cell_type": "code",
   "execution_count": null,
   "id": "0a73d0f9",
   "metadata": {
    "colab": {
     "base_uri": "https://localhost:8080/"
    },
    "id": "0a73d0f9",
    "outputId": "fa795bf8-6c80-44f9-f6f0-e2ecbe37eff5"
   },
   "outputs": [],
   "source": [
    "# confusion matrix\n",
    "print(classification_report(y_test_std, y_predicted_mlp_std))"
   ]
  },
  {
   "cell_type": "markdown",
   "id": "c8931c5f",
   "metadata": {
    "id": "c8931c5f"
   },
   "source": [
    "#### 3.2) Modeling using normalize data"
   ]
  },
  {
   "cell_type": "code",
   "execution_count": null,
   "id": "9346adff",
   "metadata": {
    "id": "9346adff"
   },
   "outputs": [],
   "source": [
    "# split the dataset\n",
    "X_train_nor, X_test_nor, y_train_nor, y_test_nor = train_test_split(X_nor, y, test_size= 1/4, random_state=0)"
   ]
  },
  {
   "cell_type": "markdown",
   "id": "5d6161cf",
   "metadata": {
    "id": "5d6161cf"
   },
   "source": [
    "#### 3.2.1) Logistic regression model"
   ]
  },
  {
   "cell_type": "code",
   "execution_count": null,
   "id": "19be7ea5",
   "metadata": {
    "colab": {
     "base_uri": "https://localhost:8080/",
     "height": 118
    },
    "id": "19be7ea5",
    "outputId": "aa6338b5-467e-4f5a-ab5f-1d79b83db6b3"
   },
   "outputs": [],
   "source": [
    "# create the model and fit\n",
    "lr_nor = GridSearchCV(LogisticRegression(), {\n",
    "    'penalty': ['elasticnet','l1','l2'],\n",
    "    'max_iter':[50,100,25]\n",
    "}, cv=5, return_train_score=False)\n",
    "\n",
    "lr_nor.fit(X_train_nor, y_train_nor)"
   ]
  },
  {
   "cell_type": "code",
   "execution_count": null,
   "id": "1dfaa6e4",
   "metadata": {
    "colab": {
     "base_uri": "https://localhost:8080/",
     "height": 75
    },
    "id": "1dfaa6e4",
    "outputId": "a84c23ad-e305-4375-90d9-bbc10c817780"
   },
   "outputs": [],
   "source": [
    "# best model after doing hyper parametric tuning\n",
    "best_model_lr_nor = lr_nor.best_estimator_\n",
    "best_model_lr_nor"
   ]
  },
  {
   "cell_type": "code",
   "execution_count": null,
   "id": "14c708cc",
   "metadata": {
    "colab": {
     "base_uri": "https://localhost:8080/"
    },
    "id": "14c708cc",
    "outputId": "4c324c5b-055a-4dfc-8100-2763118991ff"
   },
   "outputs": [],
   "source": [
    "# best accuracy of the tuned model for training data\n",
    "lr_nor.best_score_"
   ]
  },
  {
   "cell_type": "code",
   "execution_count": null,
   "id": "0c0c0c8f",
   "metadata": {
    "colab": {
     "base_uri": "https://localhost:8080/"
    },
    "id": "0c0c0c8f",
    "outputId": "ad035544-370a-439f-ca64-0b92ab79813b"
   },
   "outputs": [],
   "source": [
    "lr_nor.best_params_"
   ]
  },
  {
   "cell_type": "markdown",
   "id": "2c1c0bee",
   "metadata": {
    "id": "2c1c0bee"
   },
   "source": [
    "* Evaluating the model\n",
    "\n",
    "Let's evaluate the model using testing data"
   ]
  },
  {
   "cell_type": "code",
   "execution_count": null,
   "id": "95cd090f",
   "metadata": {
    "colab": {
     "base_uri": "https://localhost:8080/"
    },
    "id": "95cd090f",
    "outputId": "6694aa36-61f6-4ffd-b060-c046ddec6366"
   },
   "outputs": [],
   "source": [
    "# predict the probability value of response variable\n",
    "best_model_lr_nor.predict_proba(X_test_nor)"
   ]
  },
  {
   "cell_type": "code",
   "execution_count": null,
   "id": "a226e4d0",
   "metadata": {
    "id": "a226e4d0"
   },
   "outputs": [],
   "source": [
    "# predict the test data response variable\n",
    "y_predicted_lr_nor = best_model_lr_nor.predict(X_test_nor)"
   ]
  },
  {
   "cell_type": "code",
   "execution_count": null,
   "id": "ada854a7",
   "metadata": {
    "colab": {
     "base_uri": "https://localhost:8080/"
    },
    "id": "ada854a7",
    "outputId": "6132ab7d-7e86-4e17-a9d2-2de9bf710d66"
   },
   "outputs": [],
   "source": [
    "# output the accuracy score\n",
    "print('Our Accuracy is %.2f' % best_model_lr_nor.score(X_test_nor, y_test_nor))\n",
    "\n",
    "# output the number of mislabeled points\n",
    "print('Number of mislabeled points out of a total %d points : %d'% (X_test_nor.shape[0], (y_test_nor != best_model_lr_nor.predict(X_test_nor)).sum()))"
   ]
  },
  {
   "cell_type": "code",
   "execution_count": null,
   "id": "488a4a12",
   "metadata": {
    "colab": {
     "base_uri": "https://localhost:8080/",
     "height": 400
    },
    "id": "488a4a12",
    "outputId": "4ef84f76-14cd-447f-a244-50d12dd2bcb3"
   },
   "outputs": [],
   "source": [
    "cm_lr_nor = confusion_matrix(y_test_nor,y_predicted_lr_nor)\n",
    "\n",
    "# Create a heatmap to visualize the confusion matrix\n",
    "plt.figure(figsize=(6, 4))\n",
    "sns.heatmap(cm_lr_std, annot=True, fmt=\"d\", cmap=\"YlGnBu\")\n",
    "plt.xlabel(\"Predicted\")\n",
    "plt.ylabel(\"True\")\n",
    "plt.show()"
   ]
  },
  {
   "cell_type": "code",
   "execution_count": null,
   "id": "9f9ArASS5Dxt",
   "metadata": {
    "colab": {
     "base_uri": "https://localhost:8080/"
    },
    "id": "9f9ArASS5Dxt",
    "outputId": "6a141626-7716-4169-efb2-10795dc1b86e"
   },
   "outputs": [],
   "source": [
    "# confusion matrix\n",
    "print(classification_report(y_test_nor, y_predicted_lr_nor))"
   ]
  },
  {
   "cell_type": "markdown",
   "id": "wpwOMR2nAMcG",
   "metadata": {
    "id": "wpwOMR2nAMcG"
   },
   "source": [
    "3.2.2) Naive Bayes Model"
   ]
  },
  {
   "cell_type": "code",
   "execution_count": null,
   "id": "31fd9c3e",
   "metadata": {
    "colab": {
     "base_uri": "https://localhost:8080/",
     "height": 118
    },
    "id": "31fd9c3e",
    "outputId": "7f091250-4db9-47ec-e0b9-f4c2abc5a7dc"
   },
   "outputs": [],
   "source": [
    "nb_nor = GridSearchCV(GaussianNB(), {\n",
    "}, cv=5, return_train_score=False)\n",
    "\n",
    "nb_nor.fit(X_train_nor, y_train_nor)"
   ]
  },
  {
   "cell_type": "code",
   "execution_count": null,
   "id": "voENXWI1AY1Y",
   "metadata": {
    "colab": {
     "base_uri": "https://localhost:8080/",
     "height": 75
    },
    "id": "voENXWI1AY1Y",
    "outputId": "145fabb4-d0e4-4d21-f72b-f8ce08d6f666"
   },
   "outputs": [],
   "source": [
    "# best model after doing hyper parametric tuning for training data\n",
    "best_model_nb_nor = nb_nor.best_estimator_\n",
    "best_model_nb_nor"
   ]
  },
  {
   "cell_type": "code",
   "execution_count": null,
   "id": "6exRWXJcAfPt",
   "metadata": {
    "colab": {
     "base_uri": "https://localhost:8080/"
    },
    "id": "6exRWXJcAfPt",
    "outputId": "57f6ee55-c940-4f5b-e8b9-719ac98d55f1"
   },
   "outputs": [],
   "source": [
    "# best accuracy of the tuned model for training data\n",
    "nb_nor.best_score_"
   ]
  },
  {
   "cell_type": "code",
   "execution_count": null,
   "id": "G-c2ZrIVAjvX",
   "metadata": {
    "colab": {
     "base_uri": "https://localhost:8080/"
    },
    "id": "G-c2ZrIVAjvX",
    "outputId": "0e0d7643-36fe-417f-f94f-68bf2bbb2154"
   },
   "outputs": [],
   "source": [
    "# best parameters for the tuned model using training data\n",
    "nb_nor.best_params_"
   ]
  },
  {
   "cell_type": "markdown",
   "id": "LnorZ0qkAw6b",
   "metadata": {
    "id": "LnorZ0qkAw6b"
   },
   "source": [
    "* Evaluating the model\n",
    "\n",
    "Let's evaluate the model using testing data"
   ]
  },
  {
   "cell_type": "code",
   "execution_count": null,
   "id": "5QJ3xcsnAocE",
   "metadata": {
    "colab": {
     "base_uri": "https://localhost:8080/"
    },
    "id": "5QJ3xcsnAocE",
    "outputId": "9e045cda-8842-451f-f844-a48504e3e078"
   },
   "outputs": [],
   "source": [
    "# output the accuracy score\n",
    "print('Our Accuracy is %.2f' % nb_nor.score(X_test_nor, y_test_nor))\n",
    "\n",
    "# output the number of mislabeled points\n",
    "print('Number of mislabeled points out of a total %d points : %d'% (X_test_nor.shape[0], (y_test_nor != nb_nor.predict(X_test_nor)).sum()))"
   ]
  },
  {
   "cell_type": "code",
   "execution_count": null,
   "id": "CpGL3NnnBAUm",
   "metadata": {
    "colab": {
     "base_uri": "https://localhost:8080/"
    },
    "id": "CpGL3NnnBAUm",
    "outputId": "84821298-a22a-456a-b43a-51117c00543e"
   },
   "outputs": [],
   "source": [
    "# predict the probability value of response variable for testing data\n",
    "best_model_nb_nor.predict_proba(X_test_nor)"
   ]
  },
  {
   "cell_type": "code",
   "execution_count": null,
   "id": "wmricD1SBGaU",
   "metadata": {
    "id": "wmricD1SBGaU"
   },
   "outputs": [],
   "source": [
    "# predict the test data response variable\n",
    "y_predicted_nb_nor = best_model_nb_nor.predict(X_test_nor)"
   ]
  },
  {
   "cell_type": "code",
   "execution_count": null,
   "id": "ZCuXU8CjBN2t",
   "metadata": {
    "colab": {
     "base_uri": "https://localhost:8080/",
     "height": 407
    },
    "id": "ZCuXU8CjBN2t",
    "outputId": "e9811c16-62f7-4ead-8ba8-4589d58e9cf5"
   },
   "outputs": [],
   "source": [
    "cm_nb_nor = confusion_matrix(y_test_nor,y_predicted_nb_nor)\n",
    "\n",
    "# Create a heatmap to visualize the confusion matrix\n",
    "plt.figure(figsize=(6, 4))\n",
    "sns.heatmap(cm_nb_nor, annot=True, fmt=\"d\", cmap=\"YlGnBu\")\n",
    "plt.xlabel(\"Predicted\")\n",
    "plt.ylabel(\"True\")\n",
    "plt.show()"
   ]
  },
  {
   "cell_type": "code",
   "execution_count": null,
   "id": "eQXeLwTIBVtl",
   "metadata": {
    "colab": {
     "base_uri": "https://localhost:8080/"
    },
    "id": "eQXeLwTIBVtl",
    "outputId": "358e48cb-a90b-4ee0-d151-1a2c8e49774e"
   },
   "outputs": [],
   "source": [
    "# confusion matrix\n",
    "print(classification_report(y_test_nor, y_predicted_nb_nor))"
   ]
  },
  {
   "cell_type": "markdown",
   "id": "jOodoJeLBkKh",
   "metadata": {
    "id": "jOodoJeLBkKh"
   },
   "source": [
    "3.2.3) Neural Network"
   ]
  },
  {
   "cell_type": "code",
   "execution_count": null,
   "id": "4OX59r1MBbz-",
   "metadata": {
    "colab": {
     "base_uri": "https://localhost:8080/",
     "height": 118
    },
    "id": "4OX59r1MBbz-",
    "outputId": "30f6261b-8c08-4c98-972d-a9ed422f8b5b"
   },
   "outputs": [],
   "source": [
    "mlp_nor = GridSearchCV(MLPClassifier(), {\n",
    "    'hidden_layer_sizes': [[10,20,30],[20,30,40],[50,60,70]],\n",
    "    #'activation': ['identity','logistic','tanh','relu'],\n",
    "    'solver': ['lbfgs','sgd','adam'],\n",
    "    #'alpha' : [0.0001,0.001,0.01],\n",
    "    #'learning_rate': ['constant','invscaling','adaptive'],\n",
    "    #'learning_rate_init': [0.0001,0.001,0.01],\n",
    "    #'max_iter': [200,300,400]\n",
    "}, cv=5, return_train_score=False)\n",
    "\n",
    "mlp_nor.fit(X_train_nor, y_train_nor)"
   ]
  },
  {
   "cell_type": "code",
   "execution_count": null,
   "id": "K36xrgM7BwaF",
   "metadata": {
    "colab": {
     "base_uri": "https://localhost:8080/",
     "height": 75
    },
    "id": "K36xrgM7BwaF",
    "outputId": "4d85e8f4-69f7-4228-80b0-d3c84de0b1c9"
   },
   "outputs": [],
   "source": [
    "# best model after doing hyper parametric tuning for training data\n",
    "best_model_mlp_nor = mlp_nor.best_estimator_\n",
    "best_model_mlp_nor"
   ]
  },
  {
   "cell_type": "code",
   "execution_count": null,
   "id": "nlgvgRAQB8zP",
   "metadata": {
    "colab": {
     "base_uri": "https://localhost:8080/"
    },
    "id": "nlgvgRAQB8zP",
    "outputId": "f0be9dd7-f983-40bf-f1bf-2451d3015437"
   },
   "outputs": [],
   "source": [
    "# best accuracy of the tuned model for training data\n",
    "mlp_nor.best_score_"
   ]
  },
  {
   "cell_type": "code",
   "execution_count": null,
   "id": "K7urOfmbCA13",
   "metadata": {
    "colab": {
     "base_uri": "https://localhost:8080/"
    },
    "id": "K7urOfmbCA13",
    "outputId": "85759b40-dcea-4f23-f34d-480f0df0d38a"
   },
   "outputs": [],
   "source": [
    "# best parameters for the tuned model using training data\n",
    "mlp_nor.best_params_"
   ]
  },
  {
   "cell_type": "markdown",
   "id": "S2MhO83pCHXl",
   "metadata": {
    "id": "S2MhO83pCHXl"
   },
   "source": [
    "* Evaluating the model\n",
    "\n",
    "Let's evaluating the model using testing data"
   ]
  },
  {
   "cell_type": "code",
   "execution_count": null,
   "id": "LSM1WMu_CE2X",
   "metadata": {
    "colab": {
     "base_uri": "https://localhost:8080/"
    },
    "id": "LSM1WMu_CE2X",
    "outputId": "4b24a6ac-f3d8-48ce-f5e0-0b9aff702060"
   },
   "outputs": [],
   "source": [
    "# output the accuracy score\n",
    "print('Our Accuracy is %.2f' % mlp_nor.score(X_test_nor, y_test_nor))\n",
    "\n",
    "# output the number of mislabeled points\n",
    "print('Number of mislabeled points out of a total %d points : %d'% (X_test_nor.shape[0], (y_test_nor != mlp_nor.predict(X_test_nor)).sum()))"
   ]
  },
  {
   "cell_type": "code",
   "execution_count": null,
   "id": "vPQuYnr2CTME",
   "metadata": {
    "colab": {
     "base_uri": "https://localhost:8080/"
    },
    "id": "vPQuYnr2CTME",
    "outputId": "2a131508-8298-46c4-cf64-d7e36571405b"
   },
   "outputs": [],
   "source": [
    "# predict the probability value of response variable for testing data\n",
    "best_model_mlp_nor.predict_proba(X_test_nor)"
   ]
  },
  {
   "cell_type": "code",
   "execution_count": null,
   "id": "Em4TMdsNCYfk",
   "metadata": {
    "id": "Em4TMdsNCYfk"
   },
   "outputs": [],
   "source": [
    "# predict the test data response variable\n",
    "y_predicted_mlp_nor = best_model_mlp_nor.predict(X_test_nor)"
   ]
  },
  {
   "cell_type": "code",
   "execution_count": null,
   "id": "HhUm5M0DCgy8",
   "metadata": {
    "colab": {
     "base_uri": "https://localhost:8080/",
     "height": 400
    },
    "id": "HhUm5M0DCgy8",
    "outputId": "195a0a0c-9f67-42be-c915-25a3f2f40315"
   },
   "outputs": [],
   "source": [
    "cm_mlp_nor = confusion_matrix(y_test_nor,y_predicted_mlp_nor)\n",
    "\n",
    "# Create a heatmap to visualize the confusion matrix\n",
    "plt.figure(figsize=(6, 4))\n",
    "sns.heatmap(cm_mlp_nor, annot=True, fmt=\"d\", cmap=\"YlGnBu\")\n",
    "plt.xlabel(\"Predicted\")\n",
    "plt.ylabel(\"True\")\n",
    "plt.show()"
   ]
  },
  {
   "cell_type": "code",
   "execution_count": null,
   "id": "QoKHBVUhCk_M",
   "metadata": {
    "colab": {
     "base_uri": "https://localhost:8080/"
    },
    "id": "QoKHBVUhCk_M",
    "outputId": "56e96f8d-06d0-4120-8546-c2e2a230058e"
   },
   "outputs": [],
   "source": [
    "# confusion matrix\n",
    "print(classification_report(y_test_nor, y_predicted_mlp_nor))"
   ]
  },
  {
   "cell_type": "code",
   "execution_count": null,
   "id": "o2lUYBzDCvfc",
   "metadata": {
    "id": "o2lUYBzDCvfc"
   },
   "outputs": [],
   "source": []
  }
 ],
 "metadata": {
  "accelerator": "GPU",
  "colab": {
   "gpuType": "T4",
   "provenance": []
  },
  "kernelspec": {
   "display_name": "Python 3 (ipykernel)",
   "language": "python",
   "name": "python3"
  },
  "language_info": {
   "codemirror_mode": {
    "name": "ipython",
    "version": 3
   },
   "file_extension": ".py",
   "mimetype": "text/x-python",
   "name": "python",
   "nbconvert_exporter": "python",
   "pygments_lexer": "ipython3",
   "version": "3.10.13"
  }
 },
 "nbformat": 4,
 "nbformat_minor": 5
}
